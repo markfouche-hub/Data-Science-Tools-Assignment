{
 "cells": [
  {
   "cell_type": "markdown",
   "id": "9ed9dd3f-4da5-49d9-9452-4266a39009ab",
   "metadata": {
    "editable": true,
    "slideshow": {
     "slide_type": ""
    },
    "tags": []
   },
   "source": [
    "<center>\n",
    "    <img src=\"https://cf-courses-data.s3.us.cloud-object-storage.appdomain.cloud/IBMDeveloperSkillsNetwork-DS0105EN-SkillsNetwork/labs/Module2/images/SN_web_lightmode.png\" width=\"300\" alt=\"cognitiveclass.ai logo\">\n",
    "</center>\n"
   ]
  },
  {
   "cell_type": "markdown",
   "id": "bb121709-a53f-4727-9941-44dadc39fca3",
   "metadata": {
    "editable": true,
    "slideshow": {
     "slide_type": ""
    },
    "tags": []
   },
   "source": [
    "# Hands-on Lab: Create your Jupyter Notebook\n"
   ]
  },
  {
   "cell_type": "markdown",
   "id": "2151a2cc-b2e4-44d3-a05d-51eb8a144cfd",
   "metadata": {},
   "source": [
    "#### Add your code below following the instructions given in the course"
   ]
  },
  {
   "cell_type": "markdown",
   "id": "d35307a1-4fb3-485b-ab19-1a987bef8484",
   "metadata": {
    "editable": true,
    "slideshow": {
     "slide_type": ""
    },
    "tags": []
   },
   "source": [
    "# Data Science Tools and Ecosystem"
   ]
  },
  {
   "cell_type": "markdown",
   "id": "02e7fb32-acc9-4d3a-a5c5-42523b6ac491",
   "metadata": {},
   "source": [
    "In this notebook, Data Science Tools and Ecosystem are summarized"
   ]
  },
  {
   "cell_type": "markdown",
   "id": "0ee92b52-2f23-4eab-92e4-0b12d33e583a",
   "metadata": {},
   "source": [
    "### Objectives\n",
    "\n",
    "- List popular languages used in Data Science.\n",
    "- List commonly used libraries in Data Science\n",
    "- List some commonly used Data Science tools in a table format\n",
    "- Evalute some simple arithmetic expressions"
   ]
  },
  {
   "cell_type": "markdown",
   "id": "02f5b78e-8685-42cb-8893-44c6615c92ab",
   "metadata": {},
   "source": [
    "##### Some of the popular languages that Data Scientists use are:\n",
    "\n",
    "1. Python\n",
    "2. R.\n",
    "3. SQL\n",
    "4. Scala\n",
    "5. Java\n",
    "6. C++\n",
    "7. Julia"
   ]
  },
  {
   "cell_type": "markdown",
   "id": "556c447c-b394-4a6f-90e7-3b0c60603049",
   "metadata": {},
   "source": [
    "##### Some of the commonly used libraries used by Data Scientists Include:\n",
    "\n",
    "1. Pandas\n",
    "2. Numpy\n",
    "3. Matplotlib\n",
    "4. Seaborn\n",
    "5. Scikit-learn\n",
    "6. Keras\n",
    "7. TensorFlow\n",
    "8. PyTorch"
   ]
  },
  {
   "cell_type": "markdown",
   "id": "8e1fac25-1133-4b8a-91d1-fd82af14bbd0",
   "metadata": {},
   "source": [
    "| Data Science Tools |\n",
    "| ----- |\n",
    "| RStudio |\n",
    "| JupyterLab |\n",
    "| GitHub |"
   ]
  },
  {
   "cell_type": "markdown",
   "id": "0464a130-d54e-44a0-8cef-4f2c1c49ba2e",
   "metadata": {},
   "source": [
    "### Below are a few examples of evaluating arithmetic expressions in python"
   ]
  },
  {
   "cell_type": "code",
   "execution_count": 4,
   "id": "1ae84eee-09ba-4321-adfc-49f9138ee77c",
   "metadata": {},
   "outputs": [
    {
     "data": {
      "text/plain": [
       "17"
      ]
     },
     "execution_count": 4,
     "metadata": {},
     "output_type": "execute_result"
    }
   ],
   "source": [
    "# This a simple arithmetic expression to multiply the add integers\n",
    "\n",
    "(3*4)+5"
   ]
  },
  {
   "cell_type": "code",
   "execution_count": 18,
   "id": "d20770c7-99ae-45fc-9d9e-a43f10c8bc7d",
   "metadata": {},
   "outputs": [
    {
     "data": {
      "text/plain": [
       "3.3333333333333335"
      ]
     },
     "execution_count": 18,
     "metadata": {},
     "output_type": "execute_result"
    }
   ],
   "source": [
    "# This will convert 200 minutes to hours by dividing by 60\n",
    "\n",
    "200/60 "
   ]
  },
  {
   "cell_type": "markdown",
   "id": "11ccb2e0-1e18-4c65-ad0a-b105b9acf5e5",
   "metadata": {},
   "source": [
    "## Author\n",
    "Mark Fouche"
   ]
  },
  {
   "cell_type": "markdown",
   "id": "523b83e6-827d-49d6-9827-e827d01f6f55",
   "metadata": {
    "editable": true,
    "slideshow": {
     "slide_type": ""
    },
    "tags": []
   },
   "source": [
    "Copyright ©2024 IBM Corporation. All rights reserved."
   ]
  }
 ],
 "metadata": {
  "kernelspec": {
   "display_name": "Python [conda env:base] *",
   "language": "python",
   "name": "conda-base-py"
  },
  "language_info": {
   "codemirror_mode": {
    "name": "ipython",
    "version": 3
   },
   "file_extension": ".py",
   "mimetype": "text/x-python",
   "name": "python",
   "nbconvert_exporter": "python",
   "pygments_lexer": "ipython3",
   "version": "3.13.5"
  }
 },
 "nbformat": 4,
 "nbformat_minor": 5
}
